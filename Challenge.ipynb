{
 "cells": [
  {
   "cell_type": "code",
   "execution_count": 1,
   "metadata": {},
   "outputs": [
    {
     "name": "stderr",
     "output_type": "stream",
     "text": [
      "/home/kmillanr/anaconda3/lib/python3.6/site-packages/h5py/__init__.py:34: FutureWarning: Conversion of the second argument of issubdtype from `float` to `np.floating` is deprecated. In future, it will be treated as `np.float64 == np.dtype(float).type`.\n",
      "  from ._conv import register_converters as _register_converters\n",
      "Using TensorFlow backend.\n"
     ]
    },
    {
     "data": {
      "text/plain": [
       "((52508, 17), (17668, 17))"
      ]
     },
     "execution_count": 1,
     "metadata": {},
     "output_type": "execute_result"
    }
   ],
   "source": [
    "import numpy as np\n",
    "import matplotlib.pyplot as plt\n",
    "import pandas as pd\n",
    "from math import sqrt\n",
    "import tensorflow as tf\n",
    "from keras.models import Sequential\n",
    "from keras.layers import Dense, LSTM, Dropout\n",
    "from sklearn.preprocessing import MinMaxScaler\n",
    "from sklearn.metrics import mean_squared_error\n",
    "%matplotlib inline\n",
    "np.random.seed(1337)\n",
    "\n",
    "\n",
    "#Import Training Dataset\n",
    "trainds = pd.read_csv('train.csv', engine='python')\n",
    "# trainds = trainds[trainds.Interpoliert != 1]\n",
    "trainds = trainds.loc[:, trainds.columns != 'Interpoliert']\n",
    "data = trainds.loc[:, trainds.columns != 'Datum']\n",
    "\n",
    "dataset = data.values\n",
    "# #Import Challenge(test) Dataset\n",
    "chall = pd.read_csv('challenge.csv', engine='python')\n",
    "chall = chall.loc[:, chall.columns != 'Interpoliert']\n",
    "chall = chall.loc[:, chall.columns != 'Datum']\n",
    "dchall = chall.replace(to_replace= 'X', value=0)\n",
    "# combine train and challenge df's\n",
    "frames=[data,dchall]\n",
    "fulldf = pd.concat(frames)\n",
    "fulldf = fulldf.values\n",
    "data.shape, dchall.shape\n",
    "\n"
   ]
  },
  {
   "cell_type": "code",
   "execution_count": 2,
   "metadata": {},
   "outputs": [
    {
     "data": {
      "text/plain": [
       "(70176, 17)"
      ]
     },
     "execution_count": 2,
     "metadata": {},
     "output_type": "execute_result"
    }
   ],
   "source": [
    "## TRAIN DATA\n",
    "# normalize features\n",
    "scaler = MinMaxScaler(feature_range=(0, 1))\n",
    "scaled = scaler.fit_transform(dataset)\n",
    "\n",
    "## FULL CHALLENGE AND TRAIN DF\n",
    "Cscaled = scaler.fit_transform(fulldf)\n",
    "Cscaled.shape"
   ]
  },
  {
   "cell_type": "code",
   "execution_count": 3,
   "metadata": {
    "collapsed": true
   },
   "outputs": [],
   "source": [
    "# split TRAIN DATA into train and test sets\n",
    "values = np.array(Cscaled, dtype=np.float32)\n",
    "n_train = int(len(fulldf) * 0.3)\n",
    "train = values[:n_train, :]\n",
    "test = values[n_train:, :]\n",
    "\n",
    "# split into input and outputs\n",
    "train_X, train_y = train[:, :-1], train[:, -1]\n",
    "test_X, test_y = test[:, :-1], test[:, -1]\n"
   ]
  },
  {
   "cell_type": "code",
   "execution_count": 4,
   "metadata": {
    "scrolled": true
   },
   "outputs": [
    {
     "name": "stdout",
     "output_type": "stream",
     "text": [
      "(21052, 1, 16) (21052,) (49124, 1, 16) (49124,)\n"
     ]
    }
   ],
   "source": [
    "# reshape input to be 3D [samples, steps, features]\n",
    "train_X = train_X.reshape((train_X.shape[0], 1, 16))\n",
    "test_X = test_X.reshape((test_X.shape[0], 1, 16))\n",
    "print(train_X.shape, train_y.shape, test_X.shape, test_y.shape)"
   ]
  },
  {
   "cell_type": "code",
   "execution_count": 481,
   "metadata": {},
   "outputs": [
    {
     "name": "stdout",
     "output_type": "stream",
     "text": [
      "Train on 21052 samples, validate on 49124 samples\n",
      "Epoch 1/30\n",
      "21052/21052 [==============================] - 59s 3ms/step - loss: 1.7259 - val_loss: 1.2171\n",
      "Epoch 2/30\n",
      "21052/21052 [==============================] - 2s 87us/step - loss: 1.0617 - val_loss: 0.7869\n",
      "Epoch 3/30\n",
      "21052/21052 [==============================] - 2s 89us/step - loss: 0.6883 - val_loss: 0.5346\n",
      "Epoch 4/30\n",
      "21052/21052 [==============================] - 2s 88us/step - loss: 0.4728 - val_loss: 0.3842\n",
      "Epoch 5/30\n",
      "21052/21052 [==============================] - 2s 87us/step - loss: 0.3487 - val_loss: 0.2942\n",
      "Epoch 6/30\n",
      "21052/21052 [==============================] - 2s 89us/step - loss: 0.2764 - val_loss: 0.2422\n",
      "Epoch 7/30\n",
      "21052/21052 [==============================] - 2s 87us/step - loss: 0.2334 - val_loss: 0.2122\n",
      "Epoch 8/30\n",
      "21052/21052 [==============================] - 2s 87us/step - loss: 0.2066 - val_loss: 0.1941\n",
      "Epoch 9/30\n",
      "21052/21052 [==============================] - 2s 87us/step - loss: 0.1892 - val_loss: 0.1820\n",
      "Epoch 10/30\n",
      "21052/21052 [==============================] - 2s 86us/step - loss: 0.1773 - val_loss: 0.1742\n",
      "Epoch 11/30\n",
      "21052/21052 [==============================] - 2s 87us/step - loss: 0.1691 - val_loss: 0.1684\n",
      "Epoch 12/30\n",
      "21052/21052 [==============================] - 2s 87us/step - loss: 0.1627 - val_loss: 0.1647\n",
      "Epoch 13/30\n",
      "21052/21052 [==============================] - 2s 87us/step - loss: 0.1579 - val_loss: 0.1621\n",
      "Epoch 14/30\n",
      "21052/21052 [==============================] - 2s 87us/step - loss: 0.1539 - val_loss: 0.1597\n",
      "Epoch 15/30\n",
      "21052/21052 [==============================] - 2s 87us/step - loss: 0.1503 - val_loss: 0.1587\n",
      "Epoch 16/30\n",
      "21052/21052 [==============================] - 2s 87us/step - loss: 0.1473 - val_loss: 0.1579\n",
      "Epoch 17/30\n",
      "21052/21052 [==============================] - 2s 88us/step - loss: 0.1449 - val_loss: 0.1566\n",
      "Epoch 18/30\n",
      "21052/21052 [==============================] - 2s 91us/step - loss: 0.1427 - val_loss: 0.1564\n",
      "Epoch 19/30\n",
      "21052/21052 [==============================] - 2s 86us/step - loss: 0.1401 - val_loss: 0.1560\n",
      "Epoch 20/30\n",
      "21052/21052 [==============================] - 2s 90us/step - loss: 0.1387 - val_loss: 0.1554\n",
      "Epoch 21/30\n",
      "21052/21052 [==============================] - 2s 91us/step - loss: 0.1367 - val_loss: 0.1544\n",
      "Epoch 22/30\n",
      "21052/21052 [==============================] - 2s 88us/step - loss: 0.1352 - val_loss: 0.1545\n",
      "Epoch 23/30\n",
      "21052/21052 [==============================] - 2s 100us/step - loss: 0.1331 - val_loss: 0.1537\n",
      "Epoch 24/30\n",
      "21052/21052 [==============================] - 2s 88us/step - loss: 0.1325 - val_loss: 0.1538\n",
      "Epoch 25/30\n",
      "21052/21052 [==============================] - 2s 88us/step - loss: 0.1307 - val_loss: 0.1531\n",
      "Epoch 26/30\n",
      "21052/21052 [==============================] - 2s 88us/step - loss: 0.1297 - val_loss: 0.1528\n",
      "Epoch 27/30\n",
      "21052/21052 [==============================] - 2s 88us/step - loss: 0.1280 - val_loss: 0.1515\n",
      "Epoch 28/30\n",
      "21052/21052 [==============================] - 2s 87us/step - loss: 0.1270 - val_loss: 0.1525\n",
      "Epoch 29/30\n",
      "21052/21052 [==============================] - 2s 87us/step - loss: 0.1261 - val_loss: 0.1512\n",
      "Epoch 30/30\n",
      "21052/21052 [==============================] - 2s 89us/step - loss: 0.1253 - val_loss: 0.1518\n",
      "_________________________________________________________________\n",
      "Layer (type)                 Output Shape              Param #   \n",
      "=================================================================\n",
      "lstm_260 (LSTM)              (None, 100)               46800     \n",
      "_________________________________________________________________\n",
      "dense_138 (Dense)            (None, 1)                 101       \n",
      "=================================================================\n",
      "Total params: 46,901\n",
      "Trainable params: 46,901\n",
      "Non-trainable params: 0\n",
      "_________________________________________________________________\n"
     ]
    }
   ],
   "source": [
    "from keras import regularizers\n",
    "\n",
    "# create and fit the LSTM network\n",
    "model = Sequential()\n",
    "# for i in range(2):\n",
    "model.add(LSTM(100, input_shape=(1,16),\n",
    "            dropout = 0.1, activation = 'relu', \n",
    "            kernel_regularizer=regularizers.l2(0.06)))\n",
    "model.add(Dense(1))\n",
    "model.compile(loss='mae', optimizer='adamax')\n",
    "history= model.fit(train_X, train_y, epochs=30,validation_data=(test_X, test_y), batch_size=2048, shuffle=False)\n",
    "model.summary()"
   ]
  },
  {
   "cell_type": "code",
   "execution_count": 482,
   "metadata": {},
   "outputs": [
    {
     "data": {
      "image/png": "[encoded data removed]",
      "text/plain": [
       "<matplotlib.figure.Figure at 0x7f821a09e7f0>"
      ]
     },
     "metadata": {},
     "output_type": "display_data"
    }
   ],
   "source": [
    "#plot learning curve\n",
    "plt.plot(history.history['loss'], label='train')\n",
    "plt.plot(history.history['val_loss'], label='test')\n",
    "plt.title('model loss')\n",
    "plt.ylabel('Loss')\n",
    "\n",
    "plt.xlabel('Epoch')\n",
    "plt.legend()\n",
    "\n",
    "plt.show()\n"
   ]
  },
  {
   "cell_type": "code",
   "execution_count": 483,
   "metadata": {},
   "outputs": [
    {
     "name": "stdout",
     "output_type": "stream",
     "text": [
      "(21052, 1) (49124, 1)\n",
      "(49124,) [35342.31698465 35504.84155393 35667.38796496 ... 57360.11149502\n",
      " 57360.11149502 57360.11149502]\n"
     ]
    }
   ],
   "source": [
    "# make predicdata:\n",
    "trainPredict = model.predict(train_X)\n",
    "testPredict = model.predict(test_X)\n",
    "print(trainPredict.shape, testPredict.shape)\n",
    "# Get something which has as many features as dataset\n",
    "trainPredict_extended = np.zeros((len(trainPredict),16))\n",
    "# Put the predictions there\n",
    "trainPredict_extended = np.hstack((trainPredict_extended, trainPredict))\n",
    "# print(trainPredict_extended.shape)\n",
    "# # Inverse transform it and select the last column.\n",
    "trainPredict = scaler.inverse_transform(trainPredict_extended) [:,-1]\n",
    "# Get something which has as many features as dataset\n",
    "testPredict_extended = np.zeros((len(testPredict),16))\n",
    "# print(testPredict_extended.shape)\n",
    "# Put the predictions there\n",
    "testPredict_extended = np.hstack((testPredict_extended, testPredict))\n",
    "# print(testPredict_extended.shape)\n",
    "# Inverse transform it and select the last column.\n",
    "testPredict = scaler.inverse_transform(testPredict_extended) [:,-1]\n",
    "print(testPredict.shape, testPredict)\n",
    "testdf= pd.DataFrame(testPredict)\n",
    "# testdf.to_csv('testprediction.csv')"
   ]
  },
  {
   "cell_type": "code",
   "execution_count": 484,
   "metadata": {},
   "outputs": [
    {
     "name": "stdout",
     "output_type": "stream",
     "text": [
      "Train Score: 934824217.60 RMSE\n",
      "Test Score: 28581.22 RMSE\n"
     ]
    }
   ],
   "source": [
    "import math\n",
    "\n",
    "trainScore =mean_squared_error(train_y, trainPredict)\n",
    "print('Train Score: %.2f RMSE' % (trainScore))\n",
    "testScore = math.sqrt(mean_squared_error(test_y, testPredict))\n",
    "print('Test Score: %.2f RMSE' % (testScore))"
   ]
  },
  {
   "cell_type": "code",
   "execution_count": 485,
   "metadata": {},
   "outputs": [
    {
     "name": "stdout",
     "output_type": "stream",
     "text": [
      "(70176, 17)\n",
      "(70176, 17)\n"
     ]
    },
    {
     "data": {
      "image/png": "[encoded data removed]",
      "text/plain": [
       "<matplotlib.figure.Figure at 0x7f821a1a8c18>"
      ]
     },
     "metadata": {},
     "output_type": "display_data"
    }
   ],
   "source": [
    "# shift train predictions for plotting\n",
    "look_back =1\n",
    "trainPredictPlot = np.empty_like(Cscaled)\n",
    "trainPredictPlot[:, :] = np.nan\n",
    "trainPredictPlot[look_back:len(trainPredict)+look_back, 2] = trainPredict\n",
    "print(trainPredictPlot.shape)\n",
    "# shift test predictions for plotting\n",
    "testPredictPlot = np.empty_like(Cscaled)\n",
    "testPredictPlot[:, :] = np.nan\n",
    "testPredictPlot[len(trainPredict)+(look_back)-2:len(Cscaled)-1, 2] = testPredict\n",
    "print(testPredictPlot.shape)\n",
    "#plot\n",
    "\n",
    "series,=plt.plot(scaler.inverse_transform(Cscaled)[:,2])\n",
    "prediction_training,=plt.plot(trainPredictPlot[:,2],linestyle='--')\n",
    "prediction_test,=plt.plot(testPredictPlot[:,2],linestyle='--')\n",
    "plt.title('Energy Output')\n",
    "plt.ylabel('Output')\n",
    "plt.xlabel('Hour')\n",
    "plt.legend([series,prediction_training,prediction_test],['series','training','test'], loc='upper right')\n",
    "plt.show()"
   ]
  },
  {
   "cell_type": "code",
   "execution_count": null,
   "metadata": {
    "collapsed": true
   },
   "outputs": [],
   "source": []
  },
  {
   "cell_type": "code",
   "execution_count": 239,
   "metadata": {
    "collapsed": true
   },
   "outputs": [],
   "source": [
    "# import pandas as pd\n",
    "\n",
    "# def exp(repeats, series, epochs):\n",
    "#     error_scores = list()\n",
    "#     for r in range(repeats):\n",
    "#         # fit the model\n",
    "#         history = model.fit(train_X, train_y, epochs=epochs,validation_data=(test_X, test_y), batch_size=500, shuffle=True)\n",
    "#         model.predict(train_X)\n",
    "#         output = model.predict(test_X)\n",
    "#         predictions = list()\n",
    "#         for i in range(len(output)):\n",
    "#             yhat = output[i,0]\n",
    "#             X = test[i, 0:-1]\n",
    "#             # invert scaling\n",
    "#             yhat = testPredict\n",
    "#             predictions.append(yhat)\n",
    "#         # report performance\n",
    "#         rmse = math.sqrt(mean_squared_error(test_y, testPredict))\n",
    "#         print('%d) Test RMSE: %.2f' % (r+1, rmse))\n",
    "#         error_scores.append(rmse)\n",
    "#         return error_scores\n",
    "# # experiment\n",
    "# repeats = 10\n",
    "# results = pd.DataFrame()\n",
    "# # vary training epochs\n",
    "# epochs = [1, 2, 3, 4, 5]\n",
    "# for e in epochs:\n",
    "#     results[str(e)] = exp(repeats, series, e)\n",
    "# # summarize results\n",
    "# print(results.describe())\n",
    "# # save boxplot\n",
    "# results.boxplot()"
   ]
  },
  {
   "cell_type": "code",
   "execution_count": null,
   "metadata": {
    "collapsed": true
   },
   "outputs": [],
   "source": []
  },
  {
   "cell_type": "code",
   "execution_count": null,
   "metadata": {
    "collapsed": true
   },
   "outputs": [],
   "source": []
  },
  {
   "cell_type": "code",
   "execution_count": null,
   "metadata": {
    "collapsed": true
   },
   "outputs": [],
   "source": []
  },
  {
   "cell_type": "code",
   "execution_count": null,
   "metadata": {
    "collapsed": true
   },
   "outputs": [],
   "source": []
  }
 ],
 "metadata": {
  "kernelspec": {
   "display_name": "Python 3",
   "language": "python",
   "name": "python3"
  },
  "language_info": {
   "codemirror_mode": {
    "name": "ipython",
    "version": 3
   },
   "file_extension": ".py",
   "mimetype": "text/x-python",
   "name": "python",
   "nbconvert_exporter": "python",
   "pygments_lexer": "ipython3",
   "version": "3.6.3"
  }
 },
 "nbformat": 4,
 "nbformat_minor": 2
}
